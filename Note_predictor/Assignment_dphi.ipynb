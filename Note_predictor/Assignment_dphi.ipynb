{
 "cells": [
  {
   "cell_type": "markdown",
   "metadata": {
    "colab_type": "text",
    "id": "OuvL9rZvhbkS"
   },
   "source": [
    "# Prediction Note is Genuine or not(Deep Learning):\n"
   ]
  },
  {
   "cell_type": "markdown",
   "metadata": {
    "colab_type": "text",
    "id": "8nyDTLQnfg_C"
   },
   "source": [
    "**DOCUMENTATION:-**\n",
    "\n",
    "**Context:**\n",
    "Banknotes are one of the most important assets of a country. Some miscreants introduce fake notes which bear a resemblance to original note to create discrepancies of the money in the financial market. It is difficult for humans to tell true and fake banknotes apart especially because they have a lot of similar features.\n",
    "\n",
    "**Motivation:** \n",
    "Despite a decrease in the use of currency due to the recent growth in the use of electronic transactions, cash transactions remain very important in the global market. Banknotes are used to carry out financial activities. To continue with smooth cash transactions, entry of forged banknotes in circulation should be preserved. There has been a drastic increase in the rate of fake notes in the market. Fake money is an imitation of the genuine notes and is created illegally for various motives. These fake notes are created in all denominations which brings the financial market of the country to a low level. The various advancements in the field of scanners and copy machines have led the miscreants to create copies of banknotes. It is difficult for human-eye to recognize a fake note because they are created with great accuracy to look alike a genuine note. Security aspects of banknotes have to be considered and security features are to be introduced to mitigate fake currency. Hence, there is a dire need in banks and ATM machines to implement a system that classifies a note as genuine or fake.\n",
    "\n",
    "[Source of Information: A research paper on Analysis of Banknote Authentication System using Machine Learning Techniques by Sumeet Shahani, Aisa Jagiasi and Priya RL at International Journal of Computer Applications (0975 – 8887) Volume 179 – No.20, February 2018]\n",
    "\n",
    "**Objective:**\n",
    "Being a Data Science Enthusiast, you committed yourself to use the power of Data Science and come up with an efficient model that accurately predicts if a note is genuine or not.\n"
   ]
  },
  {
   "cell_type": "markdown",
   "metadata": {
    "colab_type": "text",
    "id": "9JQFt44SgkLH"
   },
   "source": [
    "Import Data using pandas module : "
   ]
  },
  {
   "cell_type": "code",
   "execution_count": 1,
   "metadata": {
    "colab": {},
    "colab_type": "code",
    "id": "bJY9I6FmfV9t"
   },
   "outputs": [],
   "source": [
    "import pandas as pd #import pandas module as alias pd\n",
    "\n",
    "bank_note_data = pd.read_csv(\"https://raw.githubusercontent.com/dphi-official/Datasets/master/bank_note_data/training_set_label.csv\" ) #import datasets in bank_note_data variable"
   ]
  },
  {
   "cell_type": "code",
   "execution_count": 2,
   "metadata": {
    "colab": {
     "base_uri": "https://localhost:8080/",
     "height": 34
    },
    "colab_type": "code",
    "id": "Msg959IsfV9x",
    "outputId": "e0fc73ab-6490-4bd5-cad1-aab09aa88625"
   },
   "outputs": [
    {
     "data": {
      "text/plain": [
       "(1096, 5)"
      ]
     },
     "execution_count": 2,
     "metadata": {},
     "output_type": "execute_result"
    }
   ],
   "source": [
    "bank_note_data.shape #check shape of data (columns and rows)"
   ]
  },
  {
   "cell_type": "code",
   "execution_count": 3,
   "metadata": {
    "colab": {
     "base_uri": "https://localhost:8080/",
     "height": 118
    },
    "colab_type": "code",
    "id": "V8JGhkPpfV90",
    "outputId": "772ce1e9-05c3-4311-a7f2-daa6ad56a5a1"
   },
   "outputs": [
    {
     "data": {
      "text/plain": [
       "VWTI     0\n",
       "SWTI     0\n",
       "CWTI     0\n",
       "EI       0\n",
       "Class    0\n",
       "dtype: int64"
      ]
     },
     "execution_count": 3,
     "metadata": {},
     "output_type": "execute_result"
    }
   ],
   "source": [
    "bank_note_data.isnull().sum() #checking for null values"
   ]
  },
  {
   "cell_type": "markdown",
   "metadata": {
    "colab_type": "text",
    "id": "MCqlxMc6fV99"
   },
   "source": [
    "## Splitting the data"
   ]
  },
  {
   "cell_type": "code",
   "execution_count": 4,
   "metadata": {
    "colab": {},
    "colab_type": "code",
    "id": "OlMfZxGAfV99"
   },
   "outputs": [],
   "source": [
    "x = bank_note_data.drop('Class',axis = 1)  #droping the target variable\n",
    "y = bank_note_data.Class #import target variable in y "
   ]
  },
  {
   "cell_type": "code",
   "execution_count": 5,
   "metadata": {
    "colab": {},
    "colab_type": "code",
    "id": "cQMh1NHAfV-A"
   },
   "outputs": [],
   "source": [
    "from sklearn.model_selection import train_test_split  #import train_test_spilit functions from sklearn.model_selection module \n",
    "x_train, x_test, y_train, y_test = train_test_split(x, y, test_size=0.2, random_state = 42) "
   ]
  },
  {
   "cell_type": "code",
   "execution_count": 6,
   "metadata": {
    "colab": {
     "base_uri": "https://localhost:8080/",
     "height": 34
    },
    "colab_type": "code",
    "id": "aMkUjtZsfV-C",
    "outputId": "8acd271f-2b2a-46ad-bf33-ba4354f987bf"
   },
   "outputs": [
    {
     "name": "stdout",
     "output_type": "stream",
     "text": [
      "4\n"
     ]
    }
   ],
   "source": [
    "features = x.shape[1]\n",
    "print(features) #no.of features"
   ]
  },
  {
   "cell_type": "markdown",
   "metadata": {
    "colab_type": "text",
    "id": "ISFPJgL5fV-F"
   },
   "source": [
    "## Training our model {Neural Networks}"
   ]
  },
  {
   "cell_type": "code",
   "execution_count": 7,
   "metadata": {
    "colab": {},
    "colab_type": "code",
    "id": "0WoLX-m-fV-F"
   },
   "outputs": [],
   "source": [
    "from tensorflow.keras import Sequential\n",
    "from tensorflow.keras.layers import Dense\n",
    "from numpy.random import seed\n",
    "import tensorflow"
   ]
  },
  {
   "cell_type": "code",
   "execution_count": 30,
   "metadata": {
    "colab": {},
    "colab_type": "code",
    "id": "r1cPb9UHfV-I"
   },
   "outputs": [],
   "source": [
    "#define the model\n",
    "model = Sequential()\n",
    "model.add(Dense(4, activation = 'relu', input_shape =(features,)))\n",
    "model.add(Dense(3, activation = 'relu'))\n",
    "model.add(Dense(1))"
   ]
  },
  {
   "cell_type": "code",
   "execution_count": 31,
   "metadata": {
    "colab": {},
    "colab_type": "code",
    "id": "M_oYpGZkfV-K"
   },
   "outputs": [],
   "source": [
    "#compile the model\n",
    "from tensorflow.keras.optimizers import RMSprop\n",
    "optimizer = RMSprop(0.01)"
   ]
  },
  {
   "cell_type": "code",
   "execution_count": 32,
   "metadata": {
    "colab": {},
    "colab_type": "code",
    "id": "I19jLNySfV-M"
   },
   "outputs": [],
   "source": [
    "model.compile(loss='mean_squared_error',optimizer=optimizer)"
   ]
  },
  {
   "cell_type": "code",
   "execution_count": 46,
   "metadata": {
    "colab": {
     "base_uri": "https://localhost:8080/",
     "height": 1000
    },
    "colab_type": "code",
    "id": "QC_xc3vVfV-P",
    "outputId": "5ab85848-280c-41c9-98e4-7925f3487416"
   },
   "outputs": [
    {
     "name": "stdout",
     "output_type": "stream",
     "text": [
      "Train on 876 samples\n",
      "Epoch 1/40\n",
      "876/876 [==============================] - 0s 291us/sample - loss: 9.9650e-04\n",
      "Epoch 2/40\n",
      "876/876 [==============================] - 0s 86us/sample - loss: 0.0019\n",
      "Epoch 3/40\n",
      "876/876 [==============================] - 0s 88us/sample - loss: 0.0021\n",
      "Epoch 4/40\n",
      "876/876 [==============================] - 0s 84us/sample - loss: 0.0022\n",
      "Epoch 5/40\n",
      "876/876 [==============================] - 0s 89us/sample - loss: 8.1159e-04\n",
      "Epoch 6/40\n",
      "876/876 [==============================] - 0s 87us/sample - loss: 8.5319e-04\n",
      "Epoch 7/40\n",
      "876/876 [==============================] - 0s 87us/sample - loss: 0.0025\n",
      "Epoch 8/40\n",
      "876/876 [==============================] - 0s 92us/sample - loss: 0.0010TA: 0s - loss: 4.3293e-0\n",
      "Epoch 9/40\n",
      "876/876 [==============================] - 0s 84us/sample - loss: 0.0011\n",
      "Epoch 10/40\n",
      "876/876 [==============================] - 0s 91us/sample - loss: 0.0022\n",
      "Epoch 11/40\n",
      "876/876 [==============================] - 0s 90us/sample - loss: 0.0015\n",
      "Epoch 12/40\n",
      "876/876 [==============================] - 0s 90us/sample - loss: 0.0012\n",
      "Epoch 13/40\n",
      "876/876 [==============================] - 0s 86us/sample - loss: 0.0023\n",
      "Epoch 14/40\n",
      "876/876 [==============================] - 0s 90us/sample - loss: 0.0015\n",
      "Epoch 15/40\n",
      "876/876 [==============================] - 0s 88us/sample - loss: 6.9095e-04\n",
      "Epoch 16/40\n",
      "876/876 [==============================] - 0s 88us/sample - loss: 9.4789e-04\n",
      "Epoch 17/40\n",
      "876/876 [==============================] - 0s 89us/sample - loss: 0.0011\n",
      "Epoch 18/40\n",
      "876/876 [==============================] - 0s 91us/sample - loss: 0.0010\n",
      "Epoch 19/40\n",
      "876/876 [==============================] - 0s 88us/sample - loss: 0.0020\n",
      "Epoch 20/40\n",
      "876/876 [==============================] - ETA: 0s - loss: 0.0025    - 0s 86us/sample - loss: 0.0020\n",
      "Epoch 21/40\n",
      "876/876 [==============================] - 0s 104us/sample - loss: 0.0020\n",
      "Epoch 22/40\n",
      "876/876 [==============================] - 0s 113us/sample - loss: 0.0011\n",
      "Epoch 23/40\n",
      "876/876 [==============================] - 0s 118us/sample - loss: 0.0013\n",
      "Epoch 24/40\n",
      "876/876 [==============================] - 0s 93us/sample - loss: 0.0018\n",
      "Epoch 25/40\n",
      "876/876 [==============================] - 0s 101us/sample - loss: 0.0017\n",
      "Epoch 26/40\n",
      "876/876 [==============================] - 0s 97us/sample - loss: 7.8338e-04\n",
      "Epoch 27/40\n",
      "876/876 [==============================] - 0s 99us/sample - loss: 0.0018\n",
      "Epoch 28/40\n",
      "876/876 [==============================] - 0s 101us/sample - loss: 4.7782e-04\n",
      "Epoch 29/40\n",
      "876/876 [==============================] - 0s 98us/sample - loss: 6.8345e-04\n",
      "Epoch 30/40\n",
      "876/876 [==============================] - 0s 90us/sample - loss: 0.0018\n",
      "Epoch 31/40\n",
      "876/876 [==============================] - 0s 99us/sample - loss: 0.0010\n",
      "Epoch 32/40\n",
      "876/876 [==============================] - 0s 93us/sample - loss: 6.6024e-04\n",
      "Epoch 33/40\n",
      "876/876 [==============================] - 0s 77us/sample - loss: 8.4884e-04\n",
      "Epoch 34/40\n",
      "876/876 [==============================] - 0s 85us/sample - loss: 5.2926e-04\n",
      "Epoch 35/40\n",
      "876/876 [==============================] - 0s 88us/sample - loss: 0.0016\n",
      "Epoch 36/40\n",
      "876/876 [==============================] - 0s 95us/sample - loss: 0.0022\n",
      "Epoch 37/40\n",
      "876/876 [==============================] - 0s 90us/sample - loss: 0.0018\n",
      "Epoch 38/40\n",
      "876/876 [==============================] - 0s 85us/sample - loss: 6.2132e-04\n",
      "Epoch 39/40\n",
      "876/876 [==============================] - ETA: 0s - loss: 0.0026    - 0s 96us/sample - loss: 0.0018\n",
      "Epoch 40/40\n",
      "876/876 [==============================] - 0s 108us/sample - loss: 0.0016\n"
     ]
    },
    {
     "data": {
      "text/plain": [
       "<tensorflow.python.keras.callbacks.History at 0x264f975c988>"
      ]
     },
     "execution_count": 46,
     "metadata": {},
     "output_type": "execute_result"
    }
   ],
   "source": [
    "#fitting the model\n",
    "seed_value = 42\n",
    "seed = seed_value\n",
    "# Recommended by Keras \n",
    "# 1. Set `PYTHONHASHSEED` environment variable at a fixed value\n",
    "import os\n",
    "os.environ['PYTHONHASHSEED'] = str(seed_value)\n",
    "\n",
    "# 2. Set `python` built-in pseudo-random generator at a fixed value\n",
    "import random\n",
    "random.seed(seed_value)\n",
    "\n",
    "# 3. Set `numpy` pseudo-random generator at a fixed value\n",
    "import numpy as np\n",
    "np.random.seed(seed_value)\n",
    "\n",
    "# 4. Set the `tensorflow` pseudo-random generator at a fixed value\n",
    "tensorflow.random.set_seed(seed_value)\n",
    "model.fit(x_train, y_train, epochs = 40, batch_size = 12, verbose=1)"
   ]
  },
  {
   "cell_type": "code",
   "execution_count": 47,
   "metadata": {
    "colab": {
     "base_uri": "https://localhost:8080/",
     "height": 50
    },
    "colab_type": "code",
    "id": "F62w2ERtfV-R",
    "outputId": "829c15e0-24bc-420c-8ac2-7994a756c181"
   },
   "outputs": [
    {
     "name": "stdout",
     "output_type": "stream",
     "text": [
      "220/220 [==============================] - 0s 91us/sample - loss: 2.4237e-04\n"
     ]
    },
    {
     "data": {
      "text/plain": [
       "0.00024236689549235796"
      ]
     },
     "execution_count": 47,
     "metadata": {},
     "output_type": "execute_result"
    }
   ],
   "source": [
    "model.evaluate(x_test, y_test)  #evaluating the model"
   ]
  },
  {
   "cell_type": "code",
   "execution_count": 48,
   "metadata": {
    "colab": {},
    "colab_type": "code",
    "id": "L4JTP8AsfV-a"
   },
   "outputs": [],
   "source": [
    "#importing data without target variable\n",
    "test_data = pd.read_csv('https://raw.githubusercontent.com/dphi-official/Datasets/master/bank_note_data/testing_set_label.csv') "
   ]
  },
  {
   "cell_type": "code",
   "execution_count": 49,
   "metadata": {
    "colab": {
     "base_uri": "https://localhost:8080/",
     "height": 34
    },
    "colab_type": "code",
    "id": "t8hNhpo5juWS",
    "outputId": "c8703971-7854-4bbd-9380-706c8c4209ae"
   },
   "outputs": [
    {
     "data": {
      "text/plain": [
       "(275, 4)"
      ]
     },
     "execution_count": 49,
     "metadata": {},
     "output_type": "execute_result"
    }
   ],
   "source": [
    "#check shape of data\n",
    "test_data.shape"
   ]
  },
  {
   "cell_type": "code",
   "execution_count": 50,
   "metadata": {
    "colab": {
     "base_uri": "https://localhost:8080/",
     "height": 101
    },
    "colab_type": "code",
    "id": "2xnsv8uRjuIp",
    "outputId": "7293072e-cef5-4ce1-80af-77f97462cf50"
   },
   "outputs": [
    {
     "data": {
      "text/plain": [
       "VWTI    0\n",
       "SWTI    0\n",
       "CWTI    0\n",
       "EI      0\n",
       "dtype: int64"
      ]
     },
     "execution_count": 50,
     "metadata": {},
     "output_type": "execute_result"
    }
   ],
   "source": [
    "#check null values\n",
    "test_data.isnull().sum() "
   ]
  },
  {
   "cell_type": "code",
   "execution_count": 51,
   "metadata": {
    "colab": {},
    "colab_type": "code",
    "id": "25HOHAgcfV-c"
   },
   "outputs": [],
   "source": [
    "new_output = model.predict(test_data) #test new data set in my model"
   ]
  },
  {
   "cell_type": "code",
   "execution_count": 52,
   "metadata": {
    "colab": {
     "base_uri": "https://localhost:8080/",
     "height": 1000
    },
    "colab_type": "code",
    "id": "U5UQj_H6fV-h",
    "outputId": "a65ec77a-72e1-4179-f7e2-94f6e475f783"
   },
   "outputs": [
    {
     "data": {
      "text/plain": [
       "array([[1.0161811 ],\n",
       "       [1.0161811 ],\n",
       "       [0.00474205],\n",
       "       [0.00474205],\n",
       "       [0.00474205],\n",
       "       [1.0161811 ],\n",
       "       [1.0164192 ],\n",
       "       [0.00474205],\n",
       "       [1.0161811 ],\n",
       "       [1.0161811 ],\n",
       "       [0.00474205],\n",
       "       [1.0161811 ],\n",
       "       [0.00474205],\n",
       "       [1.0161811 ],\n",
       "       [0.00474205],\n",
       "       [0.00474205],\n",
       "       [0.00474205],\n",
       "       [1.0161811 ],\n",
       "       [0.00474205],\n",
       "       [1.0161811 ],\n",
       "       [1.0161811 ],\n",
       "       [1.0161811 ],\n",
       "       [0.00474205],\n",
       "       [0.00474205],\n",
       "       [0.00474205],\n",
       "       [1.0161811 ],\n",
       "       [0.00474205],\n",
       "       [0.00474205],\n",
       "       [1.0161811 ],\n",
       "       [1.0161811 ],\n",
       "       [1.0480582 ],\n",
       "       [1.0161811 ],\n",
       "       [0.00474205],\n",
       "       [0.00474205],\n",
       "       [0.00474205],\n",
       "       [1.0161811 ],\n",
       "       [1.0161811 ],\n",
       "       [0.00474205],\n",
       "       [0.00474205],\n",
       "       [1.0161811 ],\n",
       "       [1.0161811 ],\n",
       "       [0.00474205],\n",
       "       [1.0161811 ],\n",
       "       [0.00474205],\n",
       "       [1.0161811 ],\n",
       "       [1.0161811 ],\n",
       "       [1.0161811 ],\n",
       "       [1.0174825 ],\n",
       "       [0.00474205],\n",
       "       [0.00474205],\n",
       "       [1.0161811 ],\n",
       "       [0.00474205],\n",
       "       [1.0161811 ],\n",
       "       [0.00474205],\n",
       "       [1.0161811 ],\n",
       "       [1.0161811 ],\n",
       "       [1.0161811 ],\n",
       "       [0.00474205],\n",
       "       [0.00474205],\n",
       "       [0.00474205],\n",
       "       [0.00474205],\n",
       "       [0.00474205],\n",
       "       [0.00474205],\n",
       "       [0.00474205],\n",
       "       [0.00474205],\n",
       "       [0.00474205],\n",
       "       [1.0161811 ],\n",
       "       [0.00474205],\n",
       "       [0.00474205],\n",
       "       [0.00474205],\n",
       "       [1.0161811 ],\n",
       "       [0.00474205],\n",
       "       [0.00474205],\n",
       "       [0.00474205],\n",
       "       [0.00474205],\n",
       "       [0.00474205],\n",
       "       [0.00474205],\n",
       "       [1.0161811 ],\n",
       "       [1.0169449 ],\n",
       "       [0.00474205],\n",
       "       [1.0161811 ],\n",
       "       [0.00474205],\n",
       "       [0.00474205],\n",
       "       [1.0161811 ],\n",
       "       [1.0161811 ],\n",
       "       [0.00474205],\n",
       "       [0.00474205],\n",
       "       [0.00474205],\n",
       "       [1.0161811 ],\n",
       "       [1.0161811 ],\n",
       "       [1.0161811 ],\n",
       "       [0.00474205],\n",
       "       [1.0161811 ],\n",
       "       [0.00474205],\n",
       "       [0.00474205],\n",
       "       [1.0161811 ],\n",
       "       [0.00474205],\n",
       "       [0.00474205],\n",
       "       [0.00474205],\n",
       "       [1.0161811 ],\n",
       "       [1.0161811 ],\n",
       "       [0.00474205],\n",
       "       [1.0161811 ],\n",
       "       [0.00474205],\n",
       "       [0.00474205],\n",
       "       [1.0161811 ],\n",
       "       [0.00474205],\n",
       "       [1.0161811 ],\n",
       "       [1.0161811 ],\n",
       "       [1.0161811 ],\n",
       "       [0.00474205],\n",
       "       [1.0161811 ],\n",
       "       [0.00474205],\n",
       "       [0.00474205],\n",
       "       [1.0161811 ],\n",
       "       [0.00474205],\n",
       "       [0.00474205],\n",
       "       [0.00474205],\n",
       "       [0.00474205],\n",
       "       [1.0161811 ],\n",
       "       [1.0161811 ],\n",
       "       [0.00474205],\n",
       "       [0.00474205],\n",
       "       [1.0161811 ],\n",
       "       [1.0161811 ],\n",
       "       [1.0161811 ],\n",
       "       [0.00474205],\n",
       "       [1.0161811 ],\n",
       "       [1.0161811 ],\n",
       "       [0.00474205],\n",
       "       [1.0161811 ],\n",
       "       [0.00474205],\n",
       "       [0.00474205],\n",
       "       [0.00474205],\n",
       "       [1.0161811 ],\n",
       "       [0.00474205],\n",
       "       [0.00474205],\n",
       "       [0.00474205],\n",
       "       [0.00474205],\n",
       "       [1.0161811 ],\n",
       "       [1.0161811 ],\n",
       "       [1.0161811 ],\n",
       "       [1.0161811 ],\n",
       "       [0.00474205],\n",
       "       [0.00474205],\n",
       "       [1.0163896 ],\n",
       "       [1.0161811 ],\n",
       "       [1.0161811 ],\n",
       "       [0.00474205],\n",
       "       [0.07465553],\n",
       "       [0.00474205],\n",
       "       [1.0161811 ],\n",
       "       [0.00474205],\n",
       "       [1.0161811 ],\n",
       "       [0.00474205],\n",
       "       [0.00474205],\n",
       "       [0.00474205],\n",
       "       [1.0161811 ],\n",
       "       [1.0161811 ],\n",
       "       [1.0161811 ],\n",
       "       [1.0161811 ],\n",
       "       [1.0161811 ],\n",
       "       [1.0161811 ],\n",
       "       [1.0170665 ],\n",
       "       [0.00474205],\n",
       "       [1.0161811 ],\n",
       "       [1.0161811 ],\n",
       "       [0.00474205],\n",
       "       [0.00474205],\n",
       "       [0.00474205],\n",
       "       [0.00474205],\n",
       "       [1.0161811 ],\n",
       "       [1.0161811 ],\n",
       "       [0.00474205],\n",
       "       [1.0214359 ],\n",
       "       [0.00474205],\n",
       "       [0.00474205],\n",
       "       [1.0161811 ],\n",
       "       [1.0161811 ],\n",
       "       [0.00474205],\n",
       "       [0.00474205],\n",
       "       [0.00474205],\n",
       "       [0.00474205],\n",
       "       [0.00474205],\n",
       "       [1.0161811 ],\n",
       "       [0.00474205],\n",
       "       [1.0161811 ],\n",
       "       [0.00474205],\n",
       "       [1.0161811 ],\n",
       "       [1.0161811 ],\n",
       "       [0.00474205],\n",
       "       [1.0161811 ],\n",
       "       [0.00474205],\n",
       "       [0.00474205],\n",
       "       [0.00474205],\n",
       "       [1.0161811 ],\n",
       "       [0.00474205],\n",
       "       [1.0161811 ],\n",
       "       [1.0161811 ],\n",
       "       [0.00474205],\n",
       "       [0.00474205],\n",
       "       [1.0161811 ],\n",
       "       [0.00474205],\n",
       "       [0.00474205],\n",
       "       [1.0161811 ],\n",
       "       [0.00474205],\n",
       "       [0.00474205],\n",
       "       [1.0161811 ],\n",
       "       [0.00474205],\n",
       "       [1.0161811 ],\n",
       "       [1.0161811 ],\n",
       "       [1.0173923 ],\n",
       "       [0.00474205],\n",
       "       [1.019243  ],\n",
       "       [0.00474205],\n",
       "       [1.0161811 ],\n",
       "       [1.0161811 ],\n",
       "       [0.00474205],\n",
       "       [0.00474205],\n",
       "       [0.00474205],\n",
       "       [1.0161811 ],\n",
       "       [0.00474205],\n",
       "       [1.0217222 ],\n",
       "       [1.0161811 ],\n",
       "       [0.00474205],\n",
       "       [0.00474205],\n",
       "       [0.00474205],\n",
       "       [1.0161811 ],\n",
       "       [0.00474205],\n",
       "       [0.00474205],\n",
       "       [0.00474205],\n",
       "       [0.00474205],\n",
       "       [1.0161811 ],\n",
       "       [1.0161811 ],\n",
       "       [0.00474205],\n",
       "       [1.0164418 ],\n",
       "       [0.00474205],\n",
       "       [0.00474205],\n",
       "       [0.00474205],\n",
       "       [0.00474205],\n",
       "       [0.00474205],\n",
       "       [0.00474205],\n",
       "       [0.00474205],\n",
       "       [1.0161811 ],\n",
       "       [0.00474205],\n",
       "       [0.00474205],\n",
       "       [1.0161811 ],\n",
       "       [0.00474205],\n",
       "       [1.0161811 ],\n",
       "       [1.0161811 ],\n",
       "       [0.00474205],\n",
       "       [1.0161811 ],\n",
       "       [0.00474205],\n",
       "       [1.0192358 ],\n",
       "       [1.0164529 ],\n",
       "       [1.0161811 ],\n",
       "       [1.0161811 ],\n",
       "       [0.00474205],\n",
       "       [0.00474205],\n",
       "       [0.00474205],\n",
       "       [1.0161811 ],\n",
       "       [1.0161811 ],\n",
       "       [0.00474205],\n",
       "       [0.00474205],\n",
       "       [1.0161811 ],\n",
       "       [0.00474205],\n",
       "       [0.00474205],\n",
       "       [0.00474205],\n",
       "       [0.00474205],\n",
       "       [1.0161811 ],\n",
       "       [1.0161811 ],\n",
       "       [0.00474205],\n",
       "       [0.00474205],\n",
       "       [0.00474205],\n",
       "       [0.00474205]], dtype=float32)"
      ]
     },
     "execution_count": 52,
     "metadata": {},
     "output_type": "execute_result"
    }
   ],
   "source": [
    "new_output"
   ]
  },
  {
   "cell_type": "code",
   "execution_count": 53,
   "metadata": {
    "colab": {},
    "colab_type": "code",
    "id": "3cdBfq07fV-j"
   },
   "outputs": [],
   "source": [
    "#Saving your output as a csv file\n",
    "res = pd.DataFrame(new_output) #preditcions are nothing but the final predictions of your model on input features of your new unseen test data\n",
    " # its important for indexing\n",
    "res.columns = [\"prediction\"]"
   ]
  },
  {
   "cell_type": "code",
   "execution_count": 57,
   "metadata": {
    "colab": {},
    "colab_type": "code",
    "id": "WYQVrTpzfV-s"
   },
   "outputs": [],
   "source": [
    "df = df[\"prediction\"].astype(int)\n",
    "df\n",
    "df.to_csv(\"prediction_results_f.csv\")"
   ]
  },
  {
   "cell_type": "code",
   "execution_count": 58,
   "metadata": {},
   "outputs": [
    {
     "data": {
      "text/plain": [
       "0      1\n",
       "1      1\n",
       "2      0\n",
       "3      0\n",
       "4      0\n",
       "      ..\n",
       "270    1\n",
       "271    0\n",
       "272    0\n",
       "273    0\n",
       "274    0\n",
       "Name: prediction, Length: 275, dtype: int32"
      ]
     },
     "execution_count": 58,
     "metadata": {},
     "output_type": "execute_result"
    }
   ],
   "source": [
    "df"
   ]
  },
  {
   "cell_type": "code",
   "execution_count": null,
   "metadata": {},
   "outputs": [],
   "source": []
  }
 ],
 "metadata": {
  "colab": {
   "collapsed_sections": [],
   "name": "Assignment_dphi.ipynb",
   "provenance": []
  },
  "kernelspec": {
   "display_name": "Python 3",
   "language": "python",
   "name": "python3"
  },
  "language_info": {
   "codemirror_mode": {
    "name": "ipython",
    "version": 3
   },
   "file_extension": ".py",
   "mimetype": "text/x-python",
   "name": "python",
   "nbconvert_exporter": "python",
   "pygments_lexer": "ipython3",
   "version": "3.7.7"
  }
 },
 "nbformat": 4,
 "nbformat_minor": 1
}
