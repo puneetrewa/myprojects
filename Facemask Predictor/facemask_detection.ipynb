{
 "cells": [
  {
   "cell_type": "code",
   "execution_count": 1,
   "metadata": {},
   "outputs": [
    {
     "name": "stdout",
     "output_type": "stream",
     "text": [
      "{'Face_without_mask': 0, 'Face_with_mask': 1}\n",
      "['Face_without_mask', 'Face_with_mask']\n",
      "[0, 1]\n"
     ]
    }
   ],
   "source": [
    "import cv2,os\n",
    "\n",
    "data_path='train'\n",
    "\n",
    "categories=os.listdir(data_path)\n",
    "\n",
    "labels=[i for i in range(len(categories))]\n",
    "\n",
    "label_dict=dict(zip(categories,labels)) \n",
    "\n",
    "print(label_dict)\n",
    "print(categories)\n",
    "print(labels)"
   ]
  },
  {
   "cell_type": "code",
   "execution_count": 2,
   "metadata": {},
   "outputs": [],
   "source": [
    "img_size=100\n",
    "data=[]\n",
    "target=[]"
   ]
  },
  {
   "cell_type": "code",
   "execution_count": 3,
   "metadata": {},
   "outputs": [],
   "source": [
    "for category in categories:\n",
    "    folder_path=os.path.join(data_path,category)\n",
    "    img_names=os.listdir(folder_path)\n",
    "        \n",
    "    for img_name in img_names:\n",
    "        img_path=os.path.join(folder_path,img_name)\n",
    "        img=cv2.imread(img_path)\n",
    "\n",
    "        try:\n",
    "            #Coverting the image into gray scale\n",
    "            gray=cv2.cvtColor(img,cv2.COLOR_BGR2GRAY)           \n",
    "            \n",
    "            #resizing the gray scale into 100x100, since we need a fixed common size for all the images in the dataset\n",
    "            resized=cv2.resize(gray,(img_size,img_size))\n",
    "            \n",
    "            #appending the image and the label(categorized) into the list (dataset)\n",
    "            data.append(resized)\n",
    "            target.append(label_dict[category])\n",
    "            \n",
    "        except Exception as e:\n",
    "            print('Exception:',e)\n",
    "            #if any exception rasied, the exception will be printed here. And pass to the next image"
   ]
  },
  {
   "cell_type": "code",
   "execution_count": 4,
   "metadata": {},
   "outputs": [],
   "source": [
    "import numpy as np\n",
    "\n",
    "data=np.array(data)/255.0\n",
    "data=np.reshape(data,(data.shape[0],img_size,img_size,1))\n",
    "target=np.array(target)\n",
    "\n",
    "from keras.utils import np_utils\n",
    "\n",
    "target=np_utils.to_categorical(target)"
   ]
  },
  {
   "cell_type": "code",
   "execution_count": 5,
   "metadata": {},
   "outputs": [],
   "source": [
    "from keras.models import Sequential\n",
    "from keras.layers import Dense,Activation,Flatten,Dropout\n",
    "from keras.layers import Conv2D,MaxPooling2D\n",
    "from keras.callbacks import ModelCheckpoint"
   ]
  },
  {
   "cell_type": "code",
   "execution_count": 6,
   "metadata": {},
   "outputs": [],
   "source": [
    "model=Sequential()\n",
    "\n",
    "#The first convolution layer\n",
    "model.add(Conv2D(200,(3,3),input_shape=data.shape[1:]))\n",
    "model.add(Activation('relu'))\n",
    "model.add(MaxPooling2D(pool_size=(2,2)))\n",
    "\n",
    "\n",
    "#The second convolution layer\n",
    "model.add(Conv2D(100,(3,3)))\n",
    "model.add(Activation('relu'))\n",
    "model.add(MaxPooling2D(pool_size=(2,2)))\n",
    "\n",
    "#Flatten layer to stack the output convolutions from second convolution layer\n",
    "model.add(Flatten())\n",
    "model.add(Dropout(0.5))\n",
    "\n",
    "#Dense layer of 50 neurons\n",
    "model.add(Dense(50,activation='relu'))\n",
    "\n",
    "#The Final layer with two outputs for two categories\n",
    "model.add(Dense(2,activation='softmax'))"
   ]
  },
  {
   "cell_type": "code",
   "execution_count": 7,
   "metadata": {},
   "outputs": [],
   "source": [
    "model.compile(loss='categorical_crossentropy',optimizer='adam',metrics=['accuracy'])"
   ]
  },
  {
   "cell_type": "code",
   "execution_count": 8,
   "metadata": {},
   "outputs": [],
   "source": [
    "from sklearn.model_selection import train_test_split\n",
    "\n",
    "train_data,test_data,train_target,test_target=train_test_split(data,target,test_size=0.1)"
   ]
  },
  {
   "cell_type": "code",
   "execution_count": 9,
   "metadata": {},
   "outputs": [
    {
     "name": "stdout",
     "output_type": "stream",
     "text": [
      "Epoch 1/40\n",
      "794/794 [==============================] - ETA: 0s - loss: 0.3631 - accuracy: 0.8283WARNING:tensorflow:From C:\\Users\\Asus\\AppData\\Roaming\\Python\\Python37\\site-packages\\tensorflow\\python\\training\\tracking\\tracking.py:111: Model.state_updates (from tensorflow.python.keras.engine.training) is deprecated and will be removed in a future version.\n",
      "Instructions for updating:\n",
      "This property should not be used in TensorFlow 2.0, as updates are applied automatically.\n",
      "WARNING:tensorflow:From C:\\Users\\Asus\\AppData\\Roaming\\Python\\Python37\\site-packages\\tensorflow\\python\\training\\tracking\\tracking.py:111: Layer.updates (from tensorflow.python.keras.engine.base_layer) is deprecated and will be removed in a future version.\n",
      "Instructions for updating:\n",
      "This property should not be used in TensorFlow 2.0, as updates are applied automatically.\n",
      "INFO:tensorflow:Assets written to: model-001.model\\assets\n",
      "794/794 [==============================] - 311s 392ms/step - loss: 0.3631 - accuracy: 0.8283 - val_loss: 0.2142 - val_accuracy: 0.9229\n",
      "Epoch 2/40\n",
      "794/794 [==============================] - ETA: 0s - loss: 0.1969 - accuracy: 0.9326INFO:tensorflow:Assets written to: model-002.model\\assets\n",
      "794/794 [==============================] - 322s 406ms/step - loss: 0.1969 - accuracy: 0.9326 - val_loss: 0.1496 - val_accuracy: 0.9466\n",
      "Epoch 3/40\n",
      "794/794 [==============================] - ETA: 0s - loss: 0.1524 - accuracy: 0.9463INFO:tensorflow:Assets written to: model-003.model\\assets\n",
      "794/794 [==============================] - 323s 407ms/step - loss: 0.1524 - accuracy: 0.9463 - val_loss: 0.1213 - val_accuracy: 0.9542\n",
      "Epoch 4/40\n",
      "794/794 [==============================] - ETA: 0s - loss: 0.1170 - accuracy: 0.9553INFO:tensorflow:Assets written to: model-004.model\\assets\n",
      "794/794 [==============================] - 323s 407ms/step - loss: 0.1170 - accuracy: 0.9553 - val_loss: 0.0950 - val_accuracy: 0.9652\n",
      "Epoch 5/40\n",
      "794/794 [==============================] - 317s 399ms/step - loss: 0.0987 - accuracy: 0.9641 - val_loss: 0.0972 - val_accuracy: 0.9612\n",
      "Epoch 6/40\n",
      "794/794 [==============================] - 315s 397ms/step - loss: 0.0847 - accuracy: 0.9665 - val_loss: 0.1109 - val_accuracy: 0.9567\n",
      "Epoch 7/40\n",
      "794/794 [==============================] - 315s 397ms/step - loss: 0.0775 - accuracy: 0.9695 - val_loss: 0.1207 - val_accuracy: 0.9531\n",
      "Epoch 8/40\n",
      "794/794 [==============================] - ETA: 0s - loss: 0.0663 - accuracy: 0.9748INFO:tensorflow:Assets written to: model-008.model\\assets\n",
      "794/794 [==============================] - 318s 401ms/step - loss: 0.0663 - accuracy: 0.9748 - val_loss: 0.0845 - val_accuracy: 0.9673\n",
      "Epoch 9/40\n",
      "794/794 [==============================] - 315s 397ms/step - loss: 0.0603 - accuracy: 0.9768 - val_loss: 0.0854 - val_accuracy: 0.9693\n",
      "Epoch 10/40\n",
      "794/794 [==============================] - 314s 396ms/step - loss: 0.0540 - accuracy: 0.9801 - val_loss: 0.0930 - val_accuracy: 0.9673\n",
      "Epoch 11/40\n",
      "794/794 [==============================] - 315s 396ms/step - loss: 0.0468 - accuracy: 0.9817 - val_loss: 0.1021 - val_accuracy: 0.9673\n",
      "Epoch 12/40\n",
      "794/794 [==============================] - 315s 397ms/step - loss: 0.0437 - accuracy: 0.9827 - val_loss: 0.0987 - val_accuracy: 0.9703\n",
      "Epoch 13/40\n",
      "794/794 [==============================] - 315s 397ms/step - loss: 0.0455 - accuracy: 0.9839 - val_loss: 0.1049 - val_accuracy: 0.9657\n",
      "Epoch 14/40\n",
      "794/794 [==============================] - 317s 399ms/step - loss: 0.0334 - accuracy: 0.9871 - val_loss: 0.1053 - val_accuracy: 0.9683\n",
      "Epoch 15/40\n",
      "794/794 [==============================] - 314s 396ms/step - loss: 0.0294 - accuracy: 0.9899 - val_loss: 0.1090 - val_accuracy: 0.9612\n",
      "Epoch 16/40\n",
      "794/794 [==============================] - 314s 395ms/step - loss: 0.0261 - accuracy: 0.9894 - val_loss: 0.1172 - val_accuracy: 0.9688\n",
      "Epoch 17/40\n",
      "794/794 [==============================] - 315s 396ms/step - loss: 0.0262 - accuracy: 0.9900 - val_loss: 0.1125 - val_accuracy: 0.9683\n",
      "Epoch 18/40\n",
      "794/794 [==============================] - 313s 394ms/step - loss: 0.0283 - accuracy: 0.9894 - val_loss: 0.1157 - val_accuracy: 0.9678\n",
      "Epoch 19/40\n",
      "794/794 [==============================] - 314s 396ms/step - loss: 0.0314 - accuracy: 0.9892 - val_loss: 0.1214 - val_accuracy: 0.9688\n",
      "Epoch 20/40\n",
      "794/794 [==============================] - 314s 396ms/step - loss: 0.0238 - accuracy: 0.9926 - val_loss: 0.0995 - val_accuracy: 0.9688\n",
      "Epoch 21/40\n",
      "794/794 [==============================] - 311s 392ms/step - loss: 0.0226 - accuracy: 0.9917 - val_loss: 0.1189 - val_accuracy: 0.9703\n",
      "Epoch 22/40\n",
      "794/794 [==============================] - 313s 394ms/step - loss: 0.0200 - accuracy: 0.9931 - val_loss: 0.1299 - val_accuracy: 0.9698\n",
      "Epoch 23/40\n",
      "794/794 [==============================] - 314s 395ms/step - loss: 0.0288 - accuracy: 0.9912 - val_loss: 0.1152 - val_accuracy: 0.9683\n",
      "Epoch 24/40\n",
      "794/794 [==============================] - 315s 396ms/step - loss: 0.0170 - accuracy: 0.9937 - val_loss: 0.1076 - val_accuracy: 0.9698\n",
      "Epoch 25/40\n",
      "794/794 [==============================] - 314s 395ms/step - loss: 0.0203 - accuracy: 0.9927 - val_loss: 0.1368 - val_accuracy: 0.9647\n",
      "Epoch 26/40\n",
      "794/794 [==============================] - 313s 394ms/step - loss: 0.0222 - accuracy: 0.9923 - val_loss: 0.1159 - val_accuracy: 0.9668\n",
      "Epoch 27/40\n",
      "794/794 [==============================] - 312s 393ms/step - loss: 0.0151 - accuracy: 0.9950 - val_loss: 0.1451 - val_accuracy: 0.9728\n",
      "Epoch 28/40\n",
      "794/794 [==============================] - 313s 394ms/step - loss: 0.0194 - accuracy: 0.9933 - val_loss: 0.1417 - val_accuracy: 0.9718\n",
      "Epoch 29/40\n",
      "794/794 [==============================] - 313s 394ms/step - loss: 0.0108 - accuracy: 0.9963 - val_loss: 0.1339 - val_accuracy: 0.9728\n",
      "Epoch 30/40\n",
      "794/794 [==============================] - 312s 393ms/step - loss: 0.0135 - accuracy: 0.9955 - val_loss: 0.1422 - val_accuracy: 0.9713\n",
      "Epoch 31/40\n",
      "794/794 [==============================] - 313s 394ms/step - loss: 0.0138 - accuracy: 0.9956 - val_loss: 0.1152 - val_accuracy: 0.9713\n",
      "Epoch 32/40\n",
      "794/794 [==============================] - 311s 391ms/step - loss: 0.0145 - accuracy: 0.9951 - val_loss: 0.1514 - val_accuracy: 0.9723\n",
      "Epoch 33/40\n",
      "794/794 [==============================] - 311s 392ms/step - loss: 0.0124 - accuracy: 0.9958 - val_loss: 0.1602 - val_accuracy: 0.9662\n",
      "Epoch 34/40\n",
      "794/794 [==============================] - 312s 393ms/step - loss: 0.0149 - accuracy: 0.9945 - val_loss: 0.1665 - val_accuracy: 0.9693\n",
      "Epoch 35/40\n",
      "794/794 [==============================] - 311s 392ms/step - loss: 0.0192 - accuracy: 0.9947 - val_loss: 0.1383 - val_accuracy: 0.9703\n",
      "Epoch 36/40\n",
      "794/794 [==============================] - 312s 393ms/step - loss: 0.0134 - accuracy: 0.9957 - val_loss: 0.1397 - val_accuracy: 0.9733\n",
      "Epoch 37/40\n",
      "794/794 [==============================] - 314s 395ms/step - loss: 0.0117 - accuracy: 0.9961 - val_loss: 0.1510 - val_accuracy: 0.9708\n",
      "Epoch 38/40\n",
      "794/794 [==============================] - 313s 394ms/step - loss: 0.0150 - accuracy: 0.9950 - val_loss: 0.1380 - val_accuracy: 0.9703\n",
      "Epoch 39/40\n",
      "794/794 [==============================] - 313s 394ms/step - loss: 0.0124 - accuracy: 0.9962 - val_loss: 0.1568 - val_accuracy: 0.9683\n",
      "Epoch 40/40\n",
      "794/794 [==============================] - 312s 393ms/step - loss: 0.0134 - accuracy: 0.9961 - val_loss: 0.1495 - val_accuracy: 0.9688\n"
     ]
    }
   ],
   "source": [
    "my_model = model.fit(train_data,train_target,epochs=40,validation_split=0.2, batch_size=10)"
   ]
  },
  {
   "cell_type": "code",
   "execution_count": 10,
   "metadata": {},
   "outputs": [
    {
     "name": "stdout",
     "output_type": "stream",
     "text": [
      "INFO:tensorflow:Assets written to: model_final.model\\assets\n"
     ]
    }
   ],
   "source": [
    "model.save('model_final.model')"
   ]
  },
  {
   "cell_type": "code",
   "execution_count": 12,
   "metadata": {},
   "outputs": [
    {
     "data": {
      "image/png": "[encoded data removed]",
      "text/plain": [
       "<Figure size 432x288 with 1 Axes>"
      ]
     },
     "metadata": {
      "needs_background": "light"
     },
     "output_type": "display_data"
    }
   ],
   "source": [
    "from matplotlib import pyplot as plt\n",
    "\n",
    "plt.plot(my_model.history['loss'],'r',label='training loss')\n",
    "plt.plot(my_model.history['val_loss'],label='validation loss')\n",
    "plt.xlabel('# epochs')\n",
    "plt.ylabel('loss')\n",
    "plt.legend()\n",
    "plt.show()"
   ]
  },
  {
   "cell_type": "code",
   "execution_count": 13,
   "metadata": {},
   "outputs": [
    {
     "data": {
      "image/png": "[encoded data removed]",
      "text/plain": [
       "<Figure size 432x288 with 1 Axes>"
      ]
     },
     "metadata": {
      "needs_background": "light"
     },
     "output_type": "display_data"
    }
   ],
   "source": [
    "plt.plot(my_model.history['accuracy'],'r',label='training accuracy')\n",
    "plt.plot(my_model.history['val_accuracy'],label='validation accuracy')\n",
    "plt.xlabel('# epochs')\n",
    "plt.ylabel('loss')\n",
    "plt.legend()\n",
    "plt.show()"
   ]
  },
  {
   "cell_type": "code",
   "execution_count": 14,
   "metadata": {},
   "outputs": [
    {
     "name": "stdout",
     "output_type": "stream",
     "text": [
      "35/35 [==============================] - 10s 273ms/step - loss: 0.2631 - accuracy: 0.9637\n",
      "[0.2630639970302582, 0.9637352824211121]\n"
     ]
    }
   ],
   "source": [
    "print(model.evaluate(test_data,test_target))"
   ]
  },
  {
   "cell_type": "code",
   "execution_count": null,
   "metadata": {},
   "outputs": [],
   "source": []
  }
 ],
 "metadata": {
  "kernelspec": {
   "display_name": "Python 3",
   "language": "python",
   "name": "python3"
  },
  "language_info": {
   "codemirror_mode": {
    "name": "ipython",
    "version": 3
   },
   "file_extension": ".py",
   "mimetype": "text/x-python",
   "name": "python",
   "nbconvert_exporter": "python",
   "pygments_lexer": "ipython3",
   "version": "3.7.7"
  }
 },
 "nbformat": 4,
 "nbformat_minor": 4
}
