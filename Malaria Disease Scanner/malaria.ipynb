{
 "cells": [
  {
   "cell_type": "code",
   "execution_count": 2,
   "metadata": {},
   "outputs": [],
   "source": [
    "import numpy as np\n",
    "\n",
    "#Set the numpy pseudo-random generator at a fixed value\n",
    "#This helps with repeatable results everytime you run the code. \n",
    "np.random.seed(1000)\n",
    "\n",
    "import matplotlib.pyplot as plt\n",
    "import os\n",
    "import cv2\n",
    "from PIL import Image\n",
    "import keras"
   ]
  },
  {
   "cell_type": "code",
   "execution_count": 3,
   "metadata": {},
   "outputs": [],
   "source": [
    "os.environ['KERAS_BACKEND'] = 'tensorflow' # Added to set the backend as Tensorflow\n",
    "#We can also set it to Theano if we want. "
   ]
  },
  {
   "cell_type": "code",
   "execution_count": 4,
   "metadata": {},
   "outputs": [],
   "source": [
    "#Iterate through all images in Parasitized folder, resize to 64 x 64\n",
    "#Then save as numpy array with name 'dataset'\n",
    "#Set the label to this as 0\n",
    "\n",
    "image_directory = 'cell_images/'\n",
    "SIZE = 64\n",
    "dataset = []   \n",
    "label = []  #We will add 0 to all parasitized images and 1 to uninfected.\n"
   ]
  },
  {
   "cell_type": "code",
   "execution_count": 5,
   "metadata": {},
   "outputs": [],
   "source": [
    "#Iterate through all images in Parasitized folder, resize to 64 x 64\n",
    "#Then save into the same numpy array 'dataset' with label 0\n",
    "parasitized_images = os.listdir(image_directory + 'Parasitized/')\n",
    "for i, image_name in enumerate(parasitized_images):    #Remember enumerate method adds a counter and returns the enumerate object\n",
    "    \n",
    "    if (image_name.split('.')[1] == 'png'):\n",
    "        image = cv2.imread(image_directory + 'Parasitized/' + image_name)\n",
    "        image = Image.fromarray(image, 'RGB')\n",
    "        image = image.resize((SIZE, SIZE))\n",
    "        dataset.append(np.array(image))\n",
    "        label.append(0)\n"
   ]
  },
  {
   "cell_type": "code",
   "execution_count": 6,
   "metadata": {},
   "outputs": [],
   "source": [
    "#Iterate through all images in Uninfected folder, resize to 64 x 64\n",
    "#Then save into the same numpy array 'dataset' but with label 1\n",
    "\n",
    "uninfected_images = os.listdir(image_directory + 'Uninfected/')\n",
    "for i, image_name in enumerate(uninfected_images):\n",
    "    if (image_name.split('.')[1] == 'png'):\n",
    "        image = cv2.imread(image_directory + 'Uninfected/' + image_name)\n",
    "        image = Image.fromarray(image, 'RGB')\n",
    "        image = image.resize((SIZE, SIZE))\n",
    "        dataset.append(np.array(image))\n",
    "        label.append(1)"
   ]
  },
  {
   "cell_type": "code",
   "execution_count": 7,
   "metadata": {},
   "outputs": [
    {
     "name": "stdout",
     "output_type": "stream",
     "text": [
      "Model: \"functional_1\"\n",
      "_________________________________________________________________\n",
      "Layer (type)                 Output Shape              Param #   \n",
      "=================================================================\n",
      "input_1 (InputLayer)         [(None, 64, 64, 3)]       0         \n",
      "_________________________________________________________________\n",
      "conv2d (Conv2D)              (None, 64, 64, 32)        896       \n",
      "_________________________________________________________________\n",
      "max_pooling2d (MaxPooling2D) (None, 32, 32, 32)        0         \n",
      "_________________________________________________________________\n",
      "batch_normalization (BatchNo (None, 32, 32, 32)        128       \n",
      "_________________________________________________________________\n",
      "dropout (Dropout)            (None, 32, 32, 32)        0         \n",
      "_________________________________________________________________\n",
      "conv2d_1 (Conv2D)            (None, 32, 32, 32)        9248      \n",
      "_________________________________________________________________\n",
      "max_pooling2d_1 (MaxPooling2 (None, 16, 16, 32)        0         \n",
      "_________________________________________________________________\n",
      "batch_normalization_1 (Batch (None, 16, 16, 32)        128       \n",
      "_________________________________________________________________\n",
      "dropout_1 (Dropout)          (None, 16, 16, 32)        0         \n",
      "_________________________________________________________________\n",
      "flatten (Flatten)            (None, 8192)              0         \n",
      "_________________________________________________________________\n",
      "dense (Dense)                (None, 512)               4194816   \n",
      "_________________________________________________________________\n",
      "batch_normalization_2 (Batch (None, 512)               2048      \n",
      "_________________________________________________________________\n",
      "dropout_2 (Dropout)          (None, 512)               0         \n",
      "_________________________________________________________________\n",
      "dense_1 (Dense)              (None, 256)               131328    \n",
      "_________________________________________________________________\n",
      "batch_normalization_3 (Batch (None, 256)               1024      \n",
      "_________________________________________________________________\n",
      "dropout_3 (Dropout)          (None, 256)               0         \n",
      "_________________________________________________________________\n",
      "dense_2 (Dense)              (None, 2)                 514       \n",
      "=================================================================\n",
      "Total params: 4,340,130\n",
      "Trainable params: 4,338,466\n",
      "Non-trainable params: 1,664\n",
      "_________________________________________________________________\n",
      "None\n"
     ]
    }
   ],
   "source": [
    "#Apply CNN\n",
    "#Build the model\n",
    "#conv and pool layers. with some normalization and drops in between.\n",
    "\n",
    "INPUT_SHAPE = (SIZE, SIZE, 3)   #change to (SIZE, SIZE, 3)\n",
    "inp = keras.layers.Input(shape=INPUT_SHAPE)\n",
    "\n",
    "conv1 = keras.layers.Conv2D(32, kernel_size=(3, 3), \n",
    "                               activation='relu', padding='same')(inp)\n",
    "pool1 = keras.layers.MaxPooling2D(pool_size=(2, 2))(conv1)\n",
    "norm1 = keras.layers.BatchNormalization(axis = -1)(pool1)\n",
    "drop1 = keras.layers.Dropout(rate=0.2)(norm1)\n",
    "conv2 = keras.layers.Conv2D(32, kernel_size=(3, 3), \n",
    "                               activation='relu', padding='same')(drop1)\n",
    "pool2 = keras.layers.MaxPooling2D(pool_size=(2, 2))(conv2)\n",
    "norm2 = keras.layers.BatchNormalization(axis = -1)(pool2)\n",
    "drop2 = keras.layers.Dropout(rate=0.2)(norm2)\n",
    "\n",
    "flat = keras.layers.Flatten()(drop2)  #Flatten the matrix to get it ready for dense.\n",
    "\n",
    "hidden1 = keras.layers.Dense(512, activation='relu')(flat)\n",
    "norm3 = keras.layers.BatchNormalization(axis = -1)(hidden1)\n",
    "drop3 = keras.layers.Dropout(rate=0.2)(norm3)\n",
    "hidden2 = keras.layers.Dense(256, activation='relu')(drop3)\n",
    "norm4 = keras.layers.BatchNormalization(axis = -1)(hidden2)\n",
    "drop4 = keras.layers.Dropout(rate=0.2)(norm4)\n",
    "\n",
    "out = keras.layers.Dense(2, activation='sigmoid')(drop4) \n",
    "\n",
    "model = keras.Model(inputs=inp, outputs=out)\n",
    "model.compile(optimizer='adam',\n",
    "                loss='categorical_crossentropy',\n",
    "                metrics=['accuracy'])\n",
    "print(model.summary())\n",
    " "
   ]
  },
  {
   "cell_type": "code",
   "execution_count": 8,
   "metadata": {},
   "outputs": [],
   "source": [
    "#Split the dataset\n",
    "#split the dataset into training and testing dataset.\n",
    "# 1. Training data: 80%\n",
    "# 2. Testing data: 20%\n",
    "\n",
    "from sklearn.model_selection import train_test_split\n",
    "from keras.utils import to_categorical\n",
    "\n",
    "X_train, X_test, y_train, y_test = train_test_split(dataset, to_categorical(np.array(label)), test_size = 0.20, random_state = 0)"
   ]
  },
  {
   "cell_type": "code",
   "execution_count": 9,
   "metadata": {},
   "outputs": [
    {
     "name": "stdout",
     "output_type": "stream",
     "text": [
      "Epoch 1/15\n",
      "311/311 [==============================] - 90s 290ms/step - loss: 0.4363 - accuracy: 0.7944 - val_loss: 1.1878 - val_accuracy: 0.7932\n",
      "Epoch 2/15\n",
      "311/311 [==============================] - 106s 340ms/step - loss: 0.2186 - accuracy: 0.9201 - val_loss: 0.1746 - val_accuracy: 0.9320\n",
      "Epoch 3/15\n",
      "311/311 [==============================] - 98s 314ms/step - loss: 0.1842 - accuracy: 0.9320 - val_loss: 0.4369 - val_accuracy: 0.7914\n",
      "Epoch 4/15\n",
      "311/311 [==============================] - 94s 301ms/step - loss: 0.1675 - accuracy: 0.9392 - val_loss: 0.2041 - val_accuracy: 0.9057\n",
      "Epoch 5/15\n",
      "311/311 [==============================] - 91s 293ms/step - loss: 0.1416 - accuracy: 0.9472 - val_loss: 0.1958 - val_accuracy: 0.9306\n",
      "Epoch 6/15\n",
      "311/311 [==============================] - 92s 296ms/step - loss: 0.1282 - accuracy: 0.9509 - val_loss: 0.1882 - val_accuracy: 0.9197\n",
      "Epoch 7/15\n",
      "311/311 [==============================] - 91s 291ms/step - loss: 0.1099 - accuracy: 0.9570 - val_loss: 0.1646 - val_accuracy: 0.9488\n",
      "Epoch 8/15\n",
      "311/311 [==============================] - 91s 292ms/step - loss: 0.0948 - accuracy: 0.9624 - val_loss: 0.1728 - val_accuracy: 0.9528\n",
      "Epoch 9/15\n",
      "311/311 [==============================] - 90s 288ms/step - loss: 0.0862 - accuracy: 0.9648 - val_loss: 0.1727 - val_accuracy: 0.9560\n",
      "Epoch 10/15\n",
      "311/311 [==============================] - 92s 296ms/step - loss: 0.0765 - accuracy: 0.9669 - val_loss: 0.1784 - val_accuracy: 0.9528\n",
      "Epoch 11/15\n",
      "311/311 [==============================] - 92s 297ms/step - loss: 0.0708 - accuracy: 0.9702 - val_loss: 0.1783 - val_accuracy: 0.9442\n",
      "Epoch 12/15\n",
      "311/311 [==============================] - 93s 298ms/step - loss: 0.0611 - accuracy: 0.9740 - val_loss: 0.1770 - val_accuracy: 0.9542\n",
      "Epoch 13/15\n",
      "311/311 [==============================] - 93s 298ms/step - loss: 0.0563 - accuracy: 0.9757 - val_loss: 0.1810 - val_accuracy: 0.9556\n",
      "Epoch 14/15\n",
      "311/311 [==============================] - 92s 295ms/step - loss: 0.0554 - accuracy: 0.9757 - val_loss: 0.1847 - val_accuracy: 0.9551\n",
      "Epoch 15/15\n",
      "311/311 [==============================] - 92s 295ms/step - loss: 0.0533 - accuracy: 0.9766 - val_loss: 0.1913 - val_accuracy: 0.9483\n"
     ]
    }
   ],
   "source": [
    "#Fit the model\n",
    "history = model.fit(np.array(X_train), \n",
    "                         y_train, \n",
    "                         batch_size = 64, \n",
    "                         verbose = 1, \n",
    "                         epochs = 15,      \n",
    "                         validation_split = 0.1,\n",
    "                         shuffle = False\n",
    "                     )"
   ]
  },
  {
   "cell_type": "code",
   "execution_count": 10,
   "metadata": {},
   "outputs": [
    {
     "name": "stdout",
     "output_type": "stream",
     "text": [
      "173/173 [==============================] - 5s 28ms/step - loss: 0.1968 - accuracy: 0.9458\n",
      "Test_Accuracy: 94.58%\n"
     ]
    }
   ],
   "source": [
    "#Accuracy calculation\n",
    "# I'll now calculate the accuracy on the test data.\n",
    "\n",
    "print(\"Test_Accuracy: {:.2f}%\".format(model.evaluate(np.array(X_test), np.array(y_test))[1]*100))"
   ]
  },
  {
   "cell_type": "code",
   "execution_count": 12,
   "metadata": {},
   "outputs": [],
   "source": [
    "#Save the model\n",
    "model.save('malaria.h5')"
   ]
  },
  {
   "cell_type": "code",
   "execution_count": null,
   "metadata": {},
   "outputs": [],
   "source": []
  }
 ],
 "metadata": {
  "kernelspec": {
   "display_name": "Python 3",
   "language": "python",
   "name": "python3"
  },
  "language_info": {
   "codemirror_mode": {
    "name": "ipython",
    "version": 3
   },
   "file_extension": ".py",
   "mimetype": "text/x-python",
   "name": "python",
   "nbconvert_exporter": "python",
   "pygments_lexer": "ipython3",
   "version": "3.7.6"
  }
 },
 "nbformat": 4,
 "nbformat_minor": 4
}
